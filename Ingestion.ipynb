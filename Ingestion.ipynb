{
 "cells": [
  {
   "cell_type": "code",
   "execution_count": 1,
   "id": "b783e27c-2aae-41cf-9c50-cc2b5a4961a7",
   "metadata": {},
   "outputs": [],
   "source": [
    "import pandas as pd\n",
    "import os\n",
    "import numpy as np\n",
    "from sqlalchemy import create_engine\n",
    "import logging\n",
    "import time\n",
    "\n",
    "logging.basicConfig(\n",
    "    level=logging.DEBUG,\n",
    "    format='%(asctime)s - %(name)s - %(levelname)s - %(message)s',\n",
    "    filename='logs/ingestion_db.log',\n",
    "    filemode='a'\n",
    ")\n"
   ]
  },
  {
   "cell_type": "code",
   "execution_count": 2,
   "id": "01a8139f-e1ca-4223-9bab-92dbc08faefa",
   "metadata": {},
   "outputs": [],
   "source": [
    "engine = create_engine(\"sqlite:///inventory.db\")"
   ]
  },
  {
   "cell_type": "code",
   "execution_count": null,
   "id": "598fd55a-9c01-4c46-a2b0-2a13c97b97fa",
   "metadata": {},
   "outputs": [
    {
     "name": "stdout",
     "output_type": "stream",
     "text": [
      "begin_inventory.csv\n",
      "(206529, 9)\n",
      "end_inventory.csv\n",
      "(224489, 9)\n",
      "purchases.csv\n"
     ]
    }
   ],
   "source": [
    "def load_raw_data():\n",
    "    start= time.time()\n",
    "    for file in os.listdir(\"data\"):\n",
    "        print(file)\n",
    "        df = pd.read_csv(\"data/\"+file)\n",
    "        logging.info(f\"Ingesting {file}\")\n",
    "        print(df.shape)\n",
    "        ingest_db(df, file[:-4],engine)\n",
    "    end= time.time()\n",
    "    total_time = (end-start) /  60\n",
    "    logging.info(\"Ingesting Complete\")\n",
    "    logging.info(f\"Total Time taken {total_time} minutes\")\n",
    "\n",
    "if __name__ == \"__main__\":\n",
    "    load_raw_data()"
   ]
  },
  {
   "cell_type": "code",
   "execution_count": 3,
   "id": "f46d39e4-2d79-4464-a5f6-054be8f4d834",
   "metadata": {},
   "outputs": [],
   "source": [
    "def ingest_db (df , table_name, engine):\n",
    "    df.to_sql(table_name, con = engine, if_exists='replace', index=False)"
   ]
  },
  {
   "cell_type": "code",
   "execution_count": 1,
   "id": "0bd035dd-9a21-43bd-b32b-57740a2ddb2e",
   "metadata": {},
   "outputs": [
    {
     "name": "stdout",
     "output_type": "stream",
     "text": [
      "begin_inventory.csv\n",
      "(206529, 9)\n",
      "end_inventory.csv\n",
      "(224489, 9)\n",
      "purchases.csv\n",
      "(2372474, 16)\n",
      "purchase_prices.csv\n",
      "(12261, 9)\n",
      "sales.csv\n",
      "(12825363, 14)\n",
      "vendor_invoice.csv\n",
      "(5543, 10)\n"
     ]
    }
   ],
   "source": [
    "import pandas as pd\n",
    "import os\n",
    "import numpy as np\n",
    "from sqlalchemy import create_engine\n",
    "import logging\n",
    "import time\n",
    "\n",
    "logging.basicConfig(\n",
    "    level=logging.DEBUG,\n",
    "    format='%(asctime)s - %(name)s - %(levelname)s - %(message)s',\n",
    "    filename='logs/ingestion_db.log',\n",
    "    filemode='a'\n",
    ")\n",
    "\n",
    "engine = create_engine(\"sqlite:///inventory.db\")\n",
    "\n",
    "def ingest_db (df , table_name, engine):\n",
    "    df.to_sql(table_name, con = engine, if_exists='replace', index=False)\n",
    "\n",
    "def load_raw_data():\n",
    "    start= time.time()\n",
    "    for file in os.listdir(\"data\"):\n",
    "        print(file)\n",
    "        df = pd.read_csv(\"data/\"+file)\n",
    "        logging.info(f\"Ingesting {file}\")\n",
    "        print(df.shape)\n",
    "        ingest_db(df, file[:-4],engine)\n",
    "    end= time.time()\n",
    "    total_time = (end-start) /  60\n",
    "    logging.info(\"Ingesting Complete\")\n",
    "    logging.info(f\"Total Time taken {total_time} minutes\")\n",
    "\n",
    "if __name__ == \"__main__\":\n",
    "    load_raw_data()\n"
   ]
  },
  {
   "cell_type": "code",
   "execution_count": null,
   "id": "dfa89a92-f2d6-4653-aaaa-882b5d00e63f",
   "metadata": {},
   "outputs": [],
   "source": []
  }
 ],
 "metadata": {
  "kernelspec": {
   "display_name": "Python [conda env:base] *",
   "language": "python",
   "name": "conda-base-py"
  },
  "language_info": {
   "codemirror_mode": {
    "name": "ipython",
    "version": 3
   },
   "file_extension": ".py",
   "mimetype": "text/x-python",
   "name": "python",
   "nbconvert_exporter": "python",
   "pygments_lexer": "ipython3",
   "version": "3.13.5"
  }
 },
 "nbformat": 4,
 "nbformat_minor": 5
}
